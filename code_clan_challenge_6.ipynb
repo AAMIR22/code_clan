{
 "cells": [
  {
   "cell_type": "code",
   "execution_count": 3,
   "id": "9f61b7fc-2aeb-4155-90aa-c6be542b7ff4",
   "metadata": {},
   "outputs": [
    {
     "name": "stdin",
     "output_type": "stream",
     "text": [
      "Enter Temperature: 22\n",
      "Enter Unit('C' - Celsius or 'F' - Fahrenheit): celsius\n"
     ]
    },
    {
     "name": "stdout",
     "output_type": "stream",
     "text": [
      "22°C is 71.6°F\n"
     ]
    }
   ],
   "source": [
    "temp=int(input(\"Enter Temperature:\"))\n",
    "unit=input(\"Enter Unit('C' - Celsius or 'F' - Fahrenheit):\")\n",
    "\n",
    "class temperature:\n",
    "    def __init__(self,temp):\n",
    "        self.temp=temp\n",
    "    def c_to_f(self):\n",
    "        f=(self.temp*9/5)+32\n",
    "        print(f\"{self.temp}°C is {f}°F\")\n",
    "    def f_to_c(self):\n",
    "        c=(self.temp-32)*5/9\n",
    "        print(f\"{self.temp}°F is {c:.2f}°C\")\n",
    "Temperature=temperature(temp)\n",
    "if unit.lower()=='c' or unit.lower()=='celsius':\n",
    "    Temperature.c_to_f()\n",
    "elif unit.lower()=='f' or unit.lower()=='fahrenheit':\n",
    "    Temperature.f_to_c()\n",
    "else:\n",
    "    print(f\"Invalid unit '{unit}'. Please enter 'C' (Celsius) or 'F' (Fahrenheit)\")"
   ]
  },
  {
   "cell_type": "code",
   "execution_count": null,
   "id": "d4f2644a-0a7a-4999-8f6e-5f52895d7b25",
   "metadata": {},
   "outputs": [],
   "source": []
  }
 ],
 "metadata": {
  "kernelspec": {
   "display_name": "Python 3 (ipykernel)",
   "language": "python",
   "name": "python3"
  },
  "language_info": {
   "codemirror_mode": {
    "name": "ipython",
    "version": 3
   },
   "file_extension": ".py",
   "mimetype": "text/x-python",
   "name": "python",
   "nbconvert_exporter": "python",
   "pygments_lexer": "ipython3",
   "version": "3.12.4"
  }
 },
 "nbformat": 4,
 "nbformat_minor": 5
}
