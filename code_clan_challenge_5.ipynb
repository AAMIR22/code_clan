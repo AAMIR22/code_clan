{
 "cells": [
  {
   "cell_type": "code",
   "execution_count": 19,
   "id": "c5812d66-04c5-4d6d-98d3-cb736207c1b4",
   "metadata": {},
   "outputs": [
    {
     "name": "stdout",
     "output_type": "stream",
     "text": [
      "Calculate two numbers\n",
      "Calculate two numbers\n",
      "1.Addition('+')\n",
      "2.Subtraction('-')\n",
      "3.Multiplication('*')\n",
      "4.Division('/')\n",
      "5.Exit('exit')\n"
     ]
    },
    {
     "name": "stdin",
     "output_type": "stream",
     "text": [
      "Select an operation:  6\n"
     ]
    },
    {
     "name": "stdout",
     "output_type": "stream",
     "text": [
      "\n",
      "Invalid option, please select any of these 1, 2, 3, 4, 5, +, -, *, /, 'exit' .\n",
      "\n",
      "Calculate two numbers\n",
      "1.Addition('+')\n",
      "2.Subtraction('-')\n",
      "3.Multiplication('*')\n",
      "4.Division('/')\n",
      "5.Exit('exit')\n"
     ]
    },
    {
     "name": "stdin",
     "output_type": "stream",
     "text": [
      "Select an operation:  /\n",
      "Enter the first number:  2\n",
      "Enter the second number:  0\n"
     ]
    },
    {
     "name": "stdout",
     "output_type": "stream",
     "text": [
      "\n",
      "Error: Cannot divide by zero. Please try again.\n",
      "\n",
      "Calculate two numbers\n",
      "1.Addition('+')\n",
      "2.Subtraction('-')\n",
      "3.Multiplication('*')\n",
      "4.Division('/')\n",
      "5.Exit('exit')\n"
     ]
    },
    {
     "name": "stdin",
     "output_type": "stream",
     "text": [
      "Select an operation:  *\n",
      "Enter the first number:  2\n",
      "Enter the second number:  3\n"
     ]
    },
    {
     "name": "stdout",
     "output_type": "stream",
     "text": [
      "\n",
      "2*3=6\n",
      "\n",
      "Thank you... Take care and see you next time!\n"
     ]
    }
   ],
   "source": [
    "# Get the input string from the user\n",
    "print(\"Calculate two numbers\")\n",
    "\n",
    "\n",
    "while True:\n",
    "    print(\"Calculate two numbers\")\n",
    "    print(\"1.Addition('+')\\n2.Subtraction('-')\\n3.Multiplication('*')\\n4.Division('/')\\n5.Exit('exit')\")\n",
    "    option = input(\"Select an operation: \")\n",
    "    if option == \"5\" or option.lower() ==\"exit\":\n",
    "        break\n",
    "    elif option not in [\"1\", \"2\", \"3\", \"4\", \"5\",\"+\", \"-\", \"*\", \"/\"]:\n",
    "        print(\"\\nInvalid option, please select any of these 1, 2, 3, 4, 5, +, -, *, /, 'exit' .\\n\")\n",
    "        continue\n",
    "    try:\n",
    "        a = int(input(\"Enter the first number: \"))\n",
    "        b = int(input(\"Enter the second number: \"))\n",
    "    except ValueError:\n",
    "        print(\"\\nInvalid input. Please enter numeric values.\")\n",
    "        continue\n",
    "    if option == \"1\" or option == \"+\":\n",
    "        print(f\"\\n{a}+{b}={a+b}\")\n",
    "        break\n",
    "    elif option == \"2\" or option == \"-\":\n",
    "            print(f\"\\n{a}-{b}={a-b}\")\n",
    "            break\n",
    "    elif option == \"3\" or option == \"*\":\n",
    "            print(f\"\\n{a}*{b}={a*b}\")\n",
    "            break\n",
    "    elif option == \"4\" or option == \"/\":\n",
    "        if b == 0:\n",
    "            print(\"\\nError: Cannot divide by zero. Please try again.\\n\")\n",
    "        else:\n",
    "            print(f\"\\n{a} / {b} = {a / b}\")\n",
    "            break\n",
    "    elif option == \"5\" or option.lower() ==\"exit\":\n",
    "        break\n",
    "\n",
    "print(\"\\nThank you... Take care and see you next time!\")"
   ]
  },
  {
   "cell_type": "code",
   "execution_count": null,
   "id": "53aacba3-8853-4026-a6c7-e81178518831",
   "metadata": {},
   "outputs": [],
   "source": []
  }
 ],
 "metadata": {
  "kernelspec": {
   "display_name": "Python 3 (ipykernel)",
   "language": "python",
   "name": "python3"
  },
  "language_info": {
   "codemirror_mode": {
    "name": "ipython",
    "version": 3
   },
   "file_extension": ".py",
   "mimetype": "text/x-python",
   "name": "python",
   "nbconvert_exporter": "python",
   "pygments_lexer": "ipython3",
   "version": "3.12.4"
  }
 },
 "nbformat": 4,
 "nbformat_minor": 5
}
