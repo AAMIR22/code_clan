{
 "cells": [
  {
   "cell_type": "code",
   "execution_count": null,
   "id": "e0d0519d-42db-4649-bc2e-746cbeaae51f",
   "metadata": {},
   "outputs": [
    {
     "name": "stdout",
     "output_type": "stream",
     "text": [
      "Hi👋 ... Welcome to the World of Multiplication Table!\n",
      "\n",
      "Menu:\n",
      "1. Print a multiplication table upto 10 only \n",
      "2. Print a multiplication table upto you wish 😊\n",
      "3. Print a multiplication table and let me choose a number between 1 to 10😜\n",
      "4. Exit 👋\n"
     ]
    },
    {
     "name": "stdin",
     "output_type": "stream",
     "text": [
      "Enter your choice (1,2,3 or 4):  1\n",
      "Enter a number:  9\n"
     ]
    },
    {
     "name": "stdout",
     "output_type": "stream",
     "text": [
      "Multiplication table for 9 up to 10:\n",
      "9 x 1 = 9\n",
      "9 x 2 = 18\n",
      "9 x 3 = 27\n",
      "9 x 4 = 36\n",
      "9 x 5 = 45\n",
      "9 x 6 = 54\n",
      "9 x 7 = 63\n",
      "9 x 8 = 72\n",
      "9 x 9 = 81\n",
      "9 x 10 = 90\n",
      "Here's your multiplication table...⬆️ \n",
      "\n",
      "Menu:\n",
      "1. Print a multiplication table upto 10 only \n",
      "2. Print a multiplication table upto you wish 😊\n",
      "3. Print a multiplication table and let me choose a number between 1 to 10😜\n",
      "4. Exit 👋\n"
     ]
    },
    {
     "name": "stdin",
     "output_type": "stream",
     "text": [
      "Enter your choice (1,2,3 or 4):  2\n",
      "Enter a number:  3\n",
      "Enter the range up to which you want the multiplication table:  3\n"
     ]
    },
    {
     "name": "stdout",
     "output_type": "stream",
     "text": [
      "Multiplication table for 3 up to 3:\n",
      "3 x 1 = 3\n",
      "3 x 2 = 6\n",
      "3 x 3 = 9\n",
      "Here's your multiplication table as you wished...⬆️ \n",
      "\n",
      "Menu:\n",
      "1. Print a multiplication table upto 10 only \n",
      "2. Print a multiplication table upto you wish 😊\n",
      "3. Print a multiplication table and let me choose a number between 1 to 10😜\n",
      "4. Exit 👋\n"
     ]
    },
    {
     "name": "stdin",
     "output_type": "stream",
     "text": [
      "Enter your choice (1,2,3 or 4):  3\n"
     ]
    },
    {
     "name": "stdout",
     "output_type": "stream",
     "text": [
      "Multiplication table for 10 up to 10:\n",
      "10 x 1 = 10\n",
      "10 x 2 = 20\n",
      "10 x 3 = 30\n",
      "10 x 4 = 40\n",
      "10 x 5 = 50\n",
      "10 x 6 = 60\n",
      "10 x 7 = 70\n",
      "10 x 8 = 80\n",
      "10 x 9 = 90\n",
      "10 x 10 = 100\n",
      "Here's your multiplication table...⬆️ Thank you for letting me choose ♥️\n",
      "\n",
      "Menu:\n",
      "1. Print a multiplication table upto 10 only \n",
      "2. Print a multiplication table upto you wish 😊\n",
      "3. Print a multiplication table and let me choose a number between 1 to 10😜\n",
      "4. Exit 👋\n"
     ]
    }
   ],
   "source": [
    "import random\n",
    "\n",
    "\n",
    "def print_multiplication_table(number, end,choice):\n",
    "    print(f\"Multiplication table for {number} up to {end}:\")\n",
    "    for i in range(1, end + 1):\n",
    "        print(f\"{number} x {i} = {number * i}\")\n",
    "    if choice==1:\n",
    "        print(\"Here's your multiplication table...⬆️ \")\n",
    "    if choice==2:\n",
    "        print(\"Here's your multiplication table as you wished...⬆️ \")\n",
    "    if choice==3:\n",
    "        print(\"Here's your multiplication table...⬆️ Thank you for letting me choose ♥️\")\n",
    "\n",
    "\n",
    "def main():\n",
    "    print(\"Hi👋 ... Welcome to the World of Multiplication Table!\")\n",
    "    while True:\n",
    "        print(\"\\nMenu:\")\n",
    "        print(\"1. Print a multiplication table upto 10 only \")\n",
    "        print(\"2. Print a multiplication table upto you wish 😊\")\n",
    "        print(\"3. Print a multiplication table and let me choose a number between 1 to 10😜\")\n",
    "        print(\"4. Exit 👋\")\n",
    "        choice = input(\"Enter your choice (1,2,3 or 4): \")\n",
    "\n",
    "        if choice == '1':\n",
    "            number = int(input(\"Enter a number: \"))\n",
    "            upto = 10\n",
    "            s=1\n",
    "            print_multiplication_table(number, upto,s)\n",
    "        elif choice == '2':\n",
    "            number = int(input(\"Enter a number: \"))\n",
    "            upto = int(input(\"Enter the range up to which you want the multiplication table: \"))\n",
    "            s=2\n",
    "            print_multiplication_table(number, upto, s)\n",
    "        elif choice == '3':\n",
    "            number = random.randint(1,10)\n",
    "            upto = 10\n",
    "            s=3\n",
    "            print_multiplication_table(number, upto,s)\n",
    "        elif choice == '4':\n",
    "            print(\"Thank you for using the Multiplication Table Program! Goodbye!👋\")\n",
    "            break\n",
    "        else:\n",
    "            print(\"Invalid choice. Please enter a number between 1 to 4.\")\n",
    "\n",
    "# Call the main function\n",
    "main()\n"
   ]
  },
  {
   "cell_type": "code",
   "execution_count": null,
   "id": "4cf53b6f-dcb2-454b-9038-cdcf22fa5b72",
   "metadata": {},
   "outputs": [],
   "source": []
  }
 ],
 "metadata": {
  "kernelspec": {
   "display_name": "Python 3 (ipykernel)",
   "language": "python",
   "name": "python3"
  },
  "language_info": {
   "codemirror_mode": {
    "name": "ipython",
    "version": 3
   },
   "file_extension": ".py",
   "mimetype": "text/x-python",
   "name": "python",
   "nbconvert_exporter": "python",
   "pygments_lexer": "ipython3",
   "version": "3.12.4"
  }
 },
 "nbformat": 4,
 "nbformat_minor": 5
}
