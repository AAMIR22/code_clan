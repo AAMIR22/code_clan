{
 "cells": [
  {
   "cell_type": "code",
   "execution_count": null,
   "id": "ce9df5a0-e551-4deb-96d8-7515fbd6e459",
   "metadata": {},
   "outputs": [
    {
     "name": "stdin",
     "output_type": "stream",
     "text": [
      "\n",
      "Hello 👋😀... How are you feeling, my friend? (If you're unsure, type 'help' for suggestions): I'm good\n"
     ]
    },
    {
     "name": "stdout",
     "output_type": "stream",
     "text": [
      "\n",
      "That's wonderful to hear! 😃\n"
     ]
    },
    {
     "name": "stdin",
     "output_type": "stream",
     "text": [
      "\n",
      "Need more help? Tell me about your feelings...😊 (type 'help' for more suggestions or type 'exit' to exit the program): Yes I need help\n"
     ]
    },
    {
     "name": "stdout",
     "output_type": "stream",
     "text": [
      "\n",
      "I may not have an answer for that feeling,😟 or If you're unsure, \n"
     ]
    },
    {
     "name": "stdin",
     "output_type": "stream",
     "text": [
      "type 'help' for suggestions or type 'exit' to exit the program: help\n"
     ]
    },
    {
     "name": "stdout",
     "output_type": "stream",
     "text": [
      "\n",
      "💡Here are some suggestions: Excited, Jealous, Grateful, Nervous, Happy\n"
     ]
    },
    {
     "name": "stdin",
     "output_type": "stream",
     "text": [
      "\n",
      "How are you feeling now?😊 ('help' is always here if you need more ideas): Happy\n"
     ]
    },
    {
     "name": "stdout",
     "output_type": "stream",
     "text": [
      "\n",
      "Feeling Happy ? Stay positive! 😊\n"
     ]
    },
    {
     "name": "stdin",
     "output_type": "stream",
     "text": [
      "\n",
      "Need more help? Tell me about your feelings...😊 (type 'help' for more suggestions or type 'exit' to exit the program): Nervous\n"
     ]
    },
    {
     "name": "stdout",
     "output_type": "stream",
     "text": [
      "\n",
      "Feeling Nervous ? 😬 You've got this, believe in yourself! 💪\n"
     ]
    },
    {
     "name": "stdin",
     "output_type": "stream",
     "text": [
      "\n",
      "Need more help? Tell me about your feelings...😊 (type 'help' for more suggestions or type 'exit' to exit the program): help\n"
     ]
    },
    {
     "name": "stdout",
     "output_type": "stream",
     "text": [
      "\n",
      "💡Here are some suggestions: Jealous, Relaxed, Tired, Overwhelmed, Okay\n"
     ]
    },
    {
     "name": "stdin",
     "output_type": "stream",
     "text": [
      "\n",
      "How are you feeling now?😊 ('help' is always here if you need more ideas): Tired\n"
     ]
    },
    {
     "name": "stdout",
     "output_type": "stream",
     "text": [
      "\n",
      "Feeling Tired ? Rest up, you deserve it! 😴\n"
     ]
    }
   ],
   "source": [
    "import random\n",
    "\n",
    "\n",
    "Dict = {\n",
    "    \"Happy\": \"Stay positive! 😊\",\n",
    "    \"Sad\": \"It will be okay. 💔\",\n",
    "    \"Excited\": \"That's fantastic, enjoy the moment! 🎉\",\n",
    "    \"Angry\": \"😡 Take a deep breath and stay calm. 🧘😊\",\n",
    "    \"Tired\": \"Rest up, you deserve it! 😴\",\n",
    "    \"Confused\": \"🤔 Take it slow, clarity will come. 😀\",\n",
    "    \"Nervous\": \"😬 You've got this, believe in yourself! 💪\",\n",
    "    \"Lonely\": \"You are not alone, reach out to someone. 🤗\",\n",
    "    \"Bored\": \"Why not try something new and fun? 🎮📚\",\n",
    "    \"Grateful\": \"That's a beautiful way to feel! 🙏\",\n",
    "    \"Frustrated\": \"😤 Patience is key, things will improve. 🙂🕰️\",\n",
    "    \"Loved\": \"Cherish it, it's a wonderful feeling! ❤️\",\n",
    "    \"Jealous\": \"Focus on your blessings, you're amazing! 🌟\",\n",
    "    \"Hopeful\": \"Keep the optimism alive! 🌈\",\n",
    "    \"Proud\": \"You earned it, celebrate yourself! 🏆\",\n",
    "    \"Anxious\": \"Take it step by step, you've got this. ✊\",\n",
    "    \"Relaxed\": \"Enjoy the tranquility, you deserve it. 🌿🛀\",\n",
    "    \"Overwhelmed\": \"Break it into smaller tasks, you can do it. 🧩\",\n",
    "    \"Curious\": \"Explore your interests, learning is fun! 🔍📖\",\n",
    "    \"Determined\": \"Go for it, nothing can stop you! 🚀\",\n",
    "    \"I'm good\": \"That's wonderful to hear! 😃\",\n",
    "    \"Good\": \"Glad you're feeling good! 😄\",\n",
    "    \"I'm fine\": \"I'm glad you're okay! 🙂\",\n",
    "    \"Okay\": \"It's good to feel steady. 😌\",\n",
    "    \"Great\": \"Awesome! Keep it up! 🌟\",\n",
    "}\n",
    "user = input(\"\\nHello 👋😀... How are you feeling, my friend? (If you're unsure, type 'help' for suggestions):\")\n",
    "a = user.capitalize()\n",
    "\n",
    "while True:\n",
    "    if a.lower()==\"help\":\n",
    "        r1 = random.randint(1, 25)\n",
    "        r2 = random.randint(1, 25)\n",
    "        r3 = random.randint(1, 25)\n",
    "        r4 = random.randint(1, 25)\n",
    "        r5 = random.randint(1, 25)\n",
    "        suggestions = random.sample(list(Dict.keys()), 5)\n",
    "        print(\"\\n💡Here are some suggestions: \" + \", \".join(suggestions))\n",
    "        a = input(\"\\nHow are you feeling now?😊 ('help' is always here if you need more ideas):\")\n",
    "    if a.lower()!=\"exit\" and a.lower()!=\"help\":\n",
    "        if a.capitalize() in Dict:\n",
    "            r = Dict[a]\n",
    "            print()\n",
    "            if a==\"I'm good\" or a==\"I'm fine\":\n",
    "                print(r)\n",
    "            else:\n",
    "                print(\"Feeling\",a,\"?\",r)\n",
    "            a = input(\"\\nNeed more help? Tell me about your feelings...😊 (type 'help' for more suggestions or type 'exit' to exit the program):\")\n",
    "        else:\n",
    "            print(\"\\nI may not have an answer for that feeling,😟 or If you're unsure, \")  # if not in dictionary print else print\n",
    "            a = input(\"type 'help' for suggestions or type 'exit' to exit the program:\")\n",
    "    a = a.capitalize()\n",
    "    if a.lower()==\"exit\" or a.lower()==\"thank you\":\n",
    "        break\n",
    "\n",
    "\n",
    "print(\"Thanks a lot!... Take care and see you next time!💖\")"
   ]
  },
  {
   "cell_type": "code",
   "execution_count": null,
   "id": "cedcbf35-ad3e-481a-8099-e95ef88850ff",
   "metadata": {},
   "outputs": [],
   "source": []
  }
 ],
 "metadata": {
  "kernelspec": {
   "display_name": "Python 3 (ipykernel)",
   "language": "python",
   "name": "python3"
  },
  "language_info": {
   "codemirror_mode": {
    "name": "ipython",
    "version": 3
   },
   "file_extension": ".py",
   "mimetype": "text/x-python",
   "name": "python",
   "nbconvert_exporter": "python",
   "pygments_lexer": "ipython3",
   "version": "3.12.4"
  }
 },
 "nbformat": 4,
 "nbformat_minor": 5
}
