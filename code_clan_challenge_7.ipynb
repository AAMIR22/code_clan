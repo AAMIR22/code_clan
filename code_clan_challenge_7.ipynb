{
 "cells": [
  {
   "cell_type": "code",
   "execution_count": 3,
   "id": "89434e50-4fc0-4efa-9e74-e16339931754",
   "metadata": {},
   "outputs": [
    {
     "name": "stdout",
     "output_type": "stream",
     "text": [
      "Deposited 500. New balance: 1500\n",
      "Withdrawn 300. New balance:1200\n",
      "Account holder:Aamir\n",
      "Account holder:1200\n"
     ]
    }
   ],
   "source": [
    "class bankaccount:\n",
    "    def __init__(self,account_holder,balance=0):\n",
    "        self.account=account_holder\n",
    "        self.balance=balance\n",
    "\n",
    "    def deposit(self,amount):\n",
    "        if amount>0:\n",
    "            self.balance+=amount\n",
    "            print(f\"Deposited {amount}. New balance: {self.balance}\")\n",
    "        else:\n",
    "            print(f\"Deposit amount must be positive\")\n",
    "\n",
    "    def withdraw(self,amount):\n",
    "        if amount > 0:\n",
    "            if amount<=self.balance:\n",
    "                self.balance-=amount\n",
    "                print(f\"Withdrawn {amount}. New balance:{self.balance}\")\n",
    "            else:\n",
    "                print(f\"Insufficient balance!\")\n",
    "        else:\n",
    "            print(f\"Withdrawal amount must be positive!\")\n",
    "\n",
    "    def check_balance(self):\n",
    "        print(f\"Account holder:{self.account}\")\n",
    "        print(f\"Account holder:{self.balance}\")\n",
    "\n",
    "account=bankaccount(\"Aamir\",1000)\n",
    "account.deposit(500)\n",
    "account.withdraw(300)\n",
    "account.check_balance()"
   ]
  },
  {
   "cell_type": "code",
   "execution_count": null,
   "id": "69decfaa-6f7e-4495-80d9-ce55a6668f3d",
   "metadata": {},
   "outputs": [],
   "source": []
  }
 ],
 "metadata": {
  "kernelspec": {
   "display_name": "Python 3 (ipykernel)",
   "language": "python",
   "name": "python3"
  },
  "language_info": {
   "codemirror_mode": {
    "name": "ipython",
    "version": 3
   },
   "file_extension": ".py",
   "mimetype": "text/x-python",
   "name": "python",
   "nbconvert_exporter": "python",
   "pygments_lexer": "ipython3",
   "version": "3.12.4"
  }
 },
 "nbformat": 4,
 "nbformat_minor": 5
}
