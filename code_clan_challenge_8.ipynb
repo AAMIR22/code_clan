{
 "cells": [
  {
   "cell_type": "code",
   "execution_count": 12,
   "id": "e86cc3bf-d605-41cc-8ff9-ea7bcaecaec5",
   "metadata": {},
   "outputs": [
    {
     "name": "stdin",
     "output_type": "stream",
     "text": [
      "Enter a sentence to check if it's a palindrome:  Madam, in Eden, I’m Adam\n"
     ]
    },
    {
     "name": "stdout",
     "output_type": "stream",
     "text": [
      "'Madam, in Eden, I’m Adam' is a palindrome!\n",
      "Reversed (ignoring spaces and punctuation): 'madaminedenimadam'\n"
     ]
    }
   ],
   "source": [
    "def palindrome(a):\n",
    "    # Cleaning sentences to remove spaces, punctuation, and convert\n",
    "    cleaned_sentence = \"\"\n",
    "    for char in a:\n",
    "        if char.isalnum(): \n",
    "            cleaned_sentence += char.lower()\n",
    "    \n",
    "    \n",
    "    reversed_sentence = cleaned_sentence[::-1]\n",
    "    \n",
    "    # Check if the cleaned sentence is a palindrome\n",
    "    return cleaned_sentence == reversed_sentence, reversed_sentence\n",
    "\n",
    "\n",
    "sentence = input(\"Enter a sentence to check if it's a palindrome: \")\n",
    "\n",
    "is_pal, reversed_sentence = palindrome(sentence)\n",
    "\n",
    "if is_pal:\n",
    "    print(f\"'{sentence}' is a palindrome!\")\n",
    "else:\n",
    "    print(f\"'{sentence}' is not a palindrome.\")\n",
    "\n",
    "# Print the reversed version of the input sentence\n",
    "print(f\"Reversed (ignoring spaces and punctuation): '{reversed_sentence}'\")\n"
   ]
  }
 ],
 "metadata": {
  "kernelspec": {
   "display_name": "Python 3 (ipykernel)",
   "language": "python",
   "name": "python3"
  },
  "language_info": {
   "codemirror_mode": {
    "name": "ipython",
    "version": 3
   },
   "file_extension": ".py",
   "mimetype": "text/x-python",
   "name": "python",
   "nbconvert_exporter": "python",
   "pygments_lexer": "ipython3",
   "version": "3.12.4"
  }
 },
 "nbformat": 4,
 "nbformat_minor": 5
}
