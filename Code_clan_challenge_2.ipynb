{
 "cells": [
  {
   "cell_type": "code",
   "execution_count": 2,
   "id": "471162cf-dfb9-4eec-b6b7-e37106414efe",
   "metadata": {},
   "outputs": [
    {
     "name": "stdout",
     "output_type": "stream",
     "text": [
      "I'm thinking of a number between 1 and 10. Can you guess it?\n",
      "\n",
      "Pssst... I think the number might be 2. But can you trust me? 😉\n"
     ]
    },
    {
     "name": "stdin",
     "output_type": "stream",
     "text": [
      "What's your guess?:  2\n"
     ]
    },
    {
     "name": "stdout",
     "output_type": "stream",
     "text": [
      "Haha, you guessed my number, but it's not the correct one!\n",
      "Oops! Too low. Try again.\n"
     ]
    },
    {
     "name": "stdin",
     "output_type": "stream",
     "text": [
      "What's your guess?:  5\n"
     ]
    },
    {
     "name": "stdout",
     "output_type": "stream",
     "text": [
      "Yikes! Too high. Give it another go.\n"
     ]
    },
    {
     "name": "stdin",
     "output_type": "stream",
     "text": [
      "What's your guess?:  4\n"
     ]
    },
    {
     "name": "stdout",
     "output_type": "stream",
     "text": [
      "\n",
      "Hmm... Not bad! Try to get within 2 attempts. The number was 4 and it took you 3 tries.\n",
      "Remember, never trust anyone...even me! 😜\n"
     ]
    }
   ],
   "source": [
    "#Quick Note:\n",
    "#We used the 'random' library to generate a random guess.\n",
    "#function guess_number is used to perform the task.\n",
    "#'while not' loop gives the user multiple chances until they succeed.\n",
    "#'if-else' statements make this program a bit more interactive.\n",
    "#This program adds a playful twist by having the program suggest its own random guess, making the game more interactive.\n",
    "#If the user guesses the program's number but it's not correct, a humorous message is displayed to keep the user engaged.\n",
    "#The playful comments and teasing add an element of fun to the guessing game, making it more entertaining.\n",
    "\n",
    "\n",
    "import random\n",
    "\n",
    "\n",
    "def guess_number():\n",
    "    number_to_guess = random.randint(1, 10)\n",
    "    program_guess = random.randint(1, 10)\n",
    "    attempts = 0\n",
    "    correct_guess = False\n",
    "\n",
    "    print(\"I'm thinking of a number between 1 and 10. Can you guess it?\")\n",
    "    print(f\"\\nPssst... I think the number might be {program_guess}. But can you trust me? 😉\")\n",
    "\n",
    "    while not correct_guess:\n",
    "        guess = int(input(\"What's your guess?: \"))\n",
    "        attempts += 1\n",
    "\n",
    "        if guess == program_guess and guess != number_to_guess:\n",
    "            print(\"Haha, you guessed my number, but it's not the correct one!\")\n",
    "\n",
    "        if guess < number_to_guess:\n",
    "            print(\"Oops! Too low. Try again.\")\n",
    "        elif guess > number_to_guess:\n",
    "            print(\"Yikes! Too high. Give it another go.\")\n",
    "        else:\n",
    "            if attempts > 2:\n",
    "                print(f\"\\nHmm... Not bad! Try to get within 2 attempts. The number was {number_to_guess} and it took you {attempts} tries.\")\n",
    "            else:\n",
    "                print(f\"\\nBravo! You nailed it. The number was {number_to_guess} and it took you {attempts} tries.\")\n",
    "            if guess == program_guess:\n",
    "                print(\"This time you got it... but remember, never trust anyone...even me! 😜\")\n",
    "            else:\n",
    "                print(\"Remember, never trust anyone...even me! 😜\")\n",
    "            correct_guess = True\n",
    "\n",
    "\n",
    "guess_number()\n"
   ]
  },
  {
   "cell_type": "code",
   "execution_count": null,
   "id": "d4a44468-2df7-445f-b2c4-c2222d3ecd26",
   "metadata": {},
   "outputs": [],
   "source": []
  }
 ],
 "metadata": {
  "kernelspec": {
   "display_name": "Python 3 (ipykernel)",
   "language": "python",
   "name": "python3"
  },
  "language_info": {
   "codemirror_mode": {
    "name": "ipython",
    "version": 3
   },
   "file_extension": ".py",
   "mimetype": "text/x-python",
   "name": "python",
   "nbconvert_exporter": "python",
   "pygments_lexer": "ipython3",
   "version": "3.12.4"
  }
 },
 "nbformat": 4,
 "nbformat_minor": 5
}
